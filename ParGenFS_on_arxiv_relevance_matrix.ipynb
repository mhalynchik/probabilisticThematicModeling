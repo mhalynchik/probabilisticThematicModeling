{
  "nbformat": 4,
  "nbformat_minor": 0,
  "metadata": {
    "colab": {
      "provenance": [],
      "collapsed_sections": [
        "nbwqwYLXgL59",
        "L1r3l0Nmsuqi",
        "rFTcnp3-qy6A"
      ]
    },
    "kernelspec": {
      "name": "python3",
      "display_name": "Python 3"
    },
    "language_info": {
      "name": "python"
    },
    "accelerator": "GPU",
    "gpuClass": "standard"
  },
  "cells": [
    {
      "cell_type": "markdown",
      "source": [
        "#### Installing requirements"
      ],
      "metadata": {
        "id": "UTf_3OXucBPN"
      }
    },
    {
      "cell_type": "code",
      "source": [
        "#installation of tree Visualization package\n",
        "os.system(\"pip install ete3 pyqt5 six lxml\")\n",
        "os.environ['QT_QPA_PLATFORM']='offscreen'"
      ],
      "metadata": {
        "id": "FHX9qU5jzo9N"
      },
      "execution_count": null,
      "outputs": []
    },
    {
      "cell_type": "code",
      "source": [
        "%%capture\n",
        "import sys\n",
        "# installation of GOT (G eneralization O ver T axonomies) software package\n",
        "!mkdir /content/gotlib\n",
        "if not os.listdir('/content/gotlib'):\n",
        "  !git clone https://github.com/dmitsf/GOT.git /content/gotlib\n",
        "sys.path.append('/content/gotlib')\n"
      ],
      "metadata": {
        "id": "52eEBkwQ9i8-"
      },
      "execution_count": null,
      "outputs": []
    },
    {
      "cell_type": "code",
      "source": [
        "from google.colab import drive\n",
        "drive.mount('/content/drive')"
      ],
      "metadata": {
        "colab": {
          "base_uri": "https://localhost:8080/"
        },
        "id": "HJxVZnOseJDC",
        "outputId": "208cbb1f-e3c7-4efe-b704-c9b4c4852025"
      },
      "execution_count": null,
      "outputs": [
        {
          "output_type": "stream",
          "name": "stdout",
          "text": [
            "Mounted at /content/drive\n"
          ]
        }
      ]
    },
    {
      "cell_type": "code",
      "source": [
        "# Downloading taxonomies\n",
        "%%capture\n",
        "!cp /content/drive/MyDrive/arxiv_category_taxonomy.csv arxiv_category_taxonomy.csv \n",
        "\n",
        "!python3 /content/gotlib/got/taxonomies/taxonomy.py arxiv_category_taxonomy.csv "
      ],
      "metadata": {
        "id": "n5Gdi5RdE_Dc"
      },
      "execution_count": null,
      "outputs": []
    },
    {
      "cell_type": "markdown",
      "source": [
        "#### Lapin and Faddis"
      ],
      "metadata": {
        "id": "nbwqwYLXgL59"
      }
    },
    {
      "cell_type": "markdown",
      "source": [
        "All that has changed is the use of a more accurate function `np.linalg.eigh()` for symmetric matrices instead of the function `np.linalg.eig()`.  \n",
        "The Lapin function began to give a more accurate answer: for two matrices that are close in value (the modulus of the elementwise difference does not exceed 1e-12), the result is also close (the modulus of the elementwise difference does not exceed 1e-12). What was wrong with the original version.  \n",
        "The Faddis function still produces different responses to input matrices that are close in value (with the same accuracy of 1e-12)."
      ],
      "metadata": {
        "id": "fyochUlIUqwu"
      }
    },
    {
      "cell_type": "code",
      "source": [
        "import numpy.linalg as LA\n",
        "\n",
        "ZERO_BOUND = 10 ** (-8)\n",
        "ENTITY_BOUND = 10 ** (-4)\n",
        "\n",
        "\n",
        "def lapin64(A):\n",
        "    '''\n",
        "    '''\n",
        "    A = (A + A.T) / 2\n",
        "    a_sums = np.ravel(abs(sum(A)))\n",
        "    \n",
        "    checked = np.array(a_sums > ENTITY_BOUND)\n",
        "    is_correct = checked.all()\n",
        "\n",
        "    if not is_correct:\n",
        "        print('These entities are no good - remove them first!!!')\n",
        "        print([i for i, j in enumerate(checked, 1) if not j])\n",
        "        A = A[:, checked][checked, :]\n",
        "        a_sums = a_sums[checked]\n",
        "\n",
        "    matrix_dim, _ = A.shape\n",
        "    C = np.empty((matrix_dim, matrix_dim), dtype=np.float64)\n",
        "    for i in range(matrix_dim):\n",
        "        for j in range(matrix_dim):\n",
        "            C[i, j] = A[i, j] / np.sqrt(a_sums[i] * a_sums[j])\n",
        "\n",
        "    eig_vals, eig_vecs = LA.eigh(np.eye(matrix_dim, dtype=np.float64) - C) # use eigh instead of eig\n",
        "    eig_vals_diag = np.diag(eig_vals)\n",
        "    nonzero_cond = np.array(eig_vals > ZERO_BOUND)\n",
        "    nonzero_eig_vals_diag = eig_vals_diag[nonzero_cond, :][:, nonzero_cond]\n",
        "    nonzero_eig_vecs = eig_vecs[:, nonzero_cond]\n",
        "    B = nonzero_eig_vecs.dot(LA.inv(nonzero_eig_vals_diag)).dot(nonzero_eig_vecs.T)\n",
        "\n",
        "    return B\n",
        "\n",
        "\n",
        "''' FADDIS clustering implementation in Python\n",
        "'''\n",
        "\n",
        "import numpy as np\n",
        "import numpy.linalg as LA\n",
        "\n",
        "ZERO_BOUND_F = 10 ** (-9)\n",
        "MIN_CLUSTER_CONTRIBUTION = 5 * 10 ** (-3)\n",
        "EPSILON = 5 * 10 ** (-2)\n",
        "# Maximum number of clusters\n",
        "MAX_NUM_CLUSTERS = 15\n",
        "\n",
        "\n",
        "def ensure_np_matrix(A):\n",
        "\n",
        "    if not isinstance(A, np.matrix):\n",
        "        A = np.matrix(A)\n",
        "    return A\n",
        "\n",
        "\n",
        "def faddis64(A):\n",
        "    ''' faddis: equential extraction of fuzzy clusters, in a sequential manner\n",
        "    A is NxN similatriy matrix, symmetrized\n",
        "    membership_matrix - NxK membership matix of clustering;\n",
        "    contrib - 1xK vector of relative contributions to the data scatter;\n",
        "    intensity - Kx2 matrix of cluster intensities^0.5 and intensities;\n",
        "    lat - 1xK vector of eigen-values corresponding to clusters;\n",
        "    cluster_got\n",
        "    '''\n",
        "    A = ensure_np_matrix(A).astype('float64')\n",
        "    \n",
        "    # minimum cluster's relative contribution to the data scatter\n",
        "    min_cont = MIN_CLUSTER_CONTRIBUTION\n",
        "    # minimum relative residual data scatter\n",
        "    eps = EPSILON\n",
        "    # maximum number of clusters\n",
        "    max_clust_num = MAX_NUM_CLUSTERS\n",
        "\n",
        "    is_positive = True\n",
        "    matrix_dim, _ = A.shape\n",
        "\n",
        "    sc = np.power(A, 2)\n",
        "    # Total data scatter\n",
        "    scatter = np.sum(sc)\n",
        "\n",
        "    cluster_got = 0\n",
        "    membership_matrix = np.empty((matrix_dim, 0))\n",
        "    contrib = np.array([])\n",
        "    lat = np.array([])\n",
        "    intensities = np.empty((0, 2))\n",
        "    curr_cont = 1\n",
        "    res_cont = 1\n",
        "\n",
        "    # 'zero' and 'one' vectors for comparisons\n",
        "    zeros_vect = np.zeros((matrix_dim, 1))\n",
        "    ones_vect = np.ones((matrix_dim, 1))\n",
        "\n",
        "    # ensure matrix is symmetrical\n",
        "    At = (A + A.T) / 2\n",
        "    matrix_sequence = [At]\n",
        "\n",
        "\n",
        "    # Stop condition:\n",
        "    # is_positive is True: eigen-value of the residual matrix is not positive;\n",
        "    # OR la cluster intensity  reaches its minimum lam;\n",
        "    # OR ep relative residual data scatter reaches its minimum eps;\n",
        "    # OR maximum number of clusters max_clust_num is achieved\n",
        "    while is_positive and curr_cont > min_cont and res_cont > eps and cluster_got <= max_clust_num:\n",
        "        # collecting a fuzzy cluster membership uf, with contrib con and intensity la,\n",
        "        eig_vals, eig_vecs = LA.eigh(At) # use eigh enstead of eig\n",
        " \n",
        "        # (lt, ii) - (maximum eigen-value, corresponding position)\n",
        "        eig_vals_diag = np.diag(eig_vals)\n",
        "        # Only positive eigenvalues\n",
        "        eig_vals_pos = np.argwhere(eig_vals > ZERO_BOUND_F).ravel()\n",
        "        eig_vals_pos_len = eig_vals_pos.size\n",
        "        cur_intensities = np.zeros((eig_vals_pos_len, 1), dtype=np.float64)\n",
        "        vm = np.zeros((matrix_dim, eig_vals_pos_len))\n",
        "        \n",
        "        for k in range(eig_vals_pos_len):\n",
        "            lt = eig_vals_diag[eig_vals_pos[k]]\n",
        "            vf = eig_vecs[:, eig_vals_pos[k]]\n",
        "\n",
        "            # Calculate normalized membership vector belonging to [0, 1] by\n",
        "            # projection on the space. The normalization factor is the\n",
        "            # Euclidean length of the vector\n",
        "            bf = np.maximum(zeros_vect, vf)\n",
        "            uf = np.minimum(bf, ones_vect)\n",
        "            \n",
        "            if LA.norm(uf) > 0:\n",
        "                uf = uf / LA.norm(uf)\n",
        "\n",
        "            vt = uf.T.dot(At).dot(uf)\n",
        "            uf = np.squeeze(np.asarray(uf))\n",
        "\n",
        "            wt = uf.T.dot(uf)\n",
        "            # Calculates the intensity Lambda (la) of the cluster, which is\n",
        "            # defined almost as the Rayleigh quotient\n",
        "            if wt > 0:\n",
        "                la = vt.item() / (wt **2)\n",
        "            else:\n",
        "                la = 0\n",
        "\n",
        "            # since lt*vf =(-lt)*(-vf), try symmetric version \n",
        "            # using -vf:\n",
        "            vf1 = -vf\n",
        "\n",
        "            bf1 = np.maximum(zeros_vect, vf1)\n",
        "            uf1 = np.minimum(bf1, ones_vect)\n",
        "            uf1 = np.squeeze(np.asarray(uf1))\n",
        "\n",
        "            if LA.norm(uf1) > 0:\n",
        "                uf1 = uf1 / LA.norm(uf1)\n",
        "                \n",
        "            vt1 = uf1.T.dot(At).dot(uf1)\n",
        "            wt1 = uf1.T.dot(uf1)\n",
        "            if wt1 > 0:\n",
        "                la1 = vt1.item() / (wt1 **2)\n",
        "            else:\n",
        "                la1 = 0\n",
        "\n",
        "            if la > la1:\n",
        "                cur_intensities[k] = la\n",
        "                vm[:, k] = uf.ravel()\n",
        "            else:\n",
        "                cur_intensities[k] = la1\n",
        "                vm[:, k] = uf1.ravel()\n",
        "\n",
        "        contrib_max, contrib_max_index = cur_intensities.max(), cur_intensities.argmax()\n",
        "        if contrib_max > ZERO_BOUND_F:\n",
        "            lat = np.append(lat, eig_vals[eig_vals_pos[contrib_max_index]])\n",
        "            intensities = np.append(intensities, np.matrix([np.sqrt(contrib_max),\n",
        "                                                            contrib_max]), axis=0)\n",
        "            # square root and value of lambda intensity of cluster_got\n",
        "            # square root shows the value of fuzzyness\n",
        "            uf = vm[:, contrib_max_index]\n",
        "            vt = uf.T.dot(At).dot(uf)\n",
        "            wt = uf.T.dot(uf)\n",
        "\n",
        "            membership_matrix = np.append(membership_matrix, np.matrix(uf).T, axis=1)\n",
        "            # calculate residual similarity matrix:\n",
        "            # remove the present cluster (i.e. itensity* membership) from\n",
        "            # similarity matrix\n",
        "            Att = At - contrib_max * np.matrix(uf).T * np.matrix(uf)\n",
        "            At = (Att + Att.T) / 2\n",
        "            matrix_sequence.append(At)\n",
        "\n",
        "            curr_cont = (vt / wt) ** 2\n",
        "            # Calculate the relative contribution of cluster_got\n",
        "            curr_cont /= scatter\n",
        "            contrib = np.append(contrib, curr_cont)\n",
        "            # Calculate the residual contribution\n",
        "            res_cont -= curr_cont\n",
        "            cluster_got += 1\n",
        "        else:\n",
        "            is_positive = False\n",
        "\n",
        "    if not is_positive:\n",
        "        print('No positive weights at spectral clusters')\n",
        "    elif curr_cont < min_cont:\n",
        "        print('Cluster contribution is too small')\n",
        "    elif res_cont < eps:\n",
        "        print('Residual is too small')\n",
        "    elif cluster_got > max_clust_num:\n",
        "        print('Maximum number of clusters reached')\n",
        "\n",
        "    return matrix_sequence, membership_matrix, contrib, intensities, lat, cluster_got"
      ],
      "metadata": {
        "id": "8A9_Sym_RlFt"
      },
      "execution_count": null,
      "outputs": []
    },
    {
      "cell_type": "markdown",
      "source": [
        "#### Data preparation"
      ],
      "metadata": {
        "id": "L1r3l0Nmsuqi"
      }
    },
    {
      "cell_type": "code",
      "source": [
        "import numpy as np\n",
        "from numba import guvectorize, vectorize\n",
        "from numba import cuda"
      ],
      "metadata": {
        "id": "gTiaDM7_1jm3"
      },
      "execution_count": null,
      "outputs": []
    },
    {
      "cell_type": "code",
      "source": [
        "#from got.relevance_analysis.lapin import lapin\n",
        "#from got.relevance_analysis.faddis import faddis\n",
        "\n",
        "from operator import itemgetter\n",
        "\n",
        "NUM_EL = 15\n",
        "\n",
        "relevance_matrix = np.loadtxt(\"/content/drive/MyDrive/relevance_matrix_range_0k-1000k.txt\")\n",
        "print(relevance_matrix.shape)"
      ],
      "metadata": {
        "colab": {
          "base_uri": "https://localhost:8080/"
        },
        "id": "jGjsXirdNr05",
        "outputId": "4a242090-82eb-4d43-e936-87210639dc5e"
      },
      "execution_count": null,
      "outputs": [
        {
          "output_type": "stream",
          "name": "stdout",
          "text": [
            "(1000000, 155)\n"
          ]
        }
      ]
    },
    {
      "cell_type": "code",
      "source": [
        "rel_mat = relevance_matrix.astype('float64')"
      ],
      "metadata": {
        "id": "vQXDSHNtOfZN"
      },
      "execution_count": null,
      "outputs": []
    },
    {
      "cell_type": "code",
      "source": [
        "tc = rel_mat.T.dot(rel_mat)"
      ],
      "metadata": {
        "colab": {
          "base_uri": "https://localhost:8080/"
        },
        "id": "iXHI9RxkNxUm",
        "outputId": "2cc37ea3-254a-4536-dfac-0e0df883beb4"
      },
      "execution_count": null,
      "outputs": [
        {
          "output_type": "stream",
          "name": "stderr",
          "text": [
            "/usr/local/lib/python3.9/dist-packages/numba/cuda/dispatcher.py:488: NumbaPerformanceWarning: Grid size 1 will likely result in GPU under-utilization due to low occupancy.\n",
            "  warn(NumbaPerformanceWarning(msg))\n"
          ]
        }
      ]
    },
    {
      "cell_type": "code",
      "source": [
        "print(tc.shape)\n",
        "\n",
        "tc_transformed = lapin64(tc)\n",
        "B, member, contrib, intensity, lat, tt = faddis64(tc_transformed)\n",
        "np.savetxt(\"clusters.dat\", member)\n",
        "\n",
        "with open(\"taxonomy_leaves.txt\") as fn:\n",
        "    annotations = [l.strip() for l in fn]\n",
        "\n",
        "for cluster in member.T:\n",
        "    print(list(sorted(zip(annotations, cluster.flat),\n",
        "                      key=itemgetter(1), reverse=True))[:NUM_EL])"
      ],
      "metadata": {
        "id": "j8BgfoZemgeJ",
        "colab": {
          "base_uri": "https://localhost:8080/"
        },
        "outputId": "5787f1ca-07ce-4c4b-fc5c-8ffa3362fb01"
      },
      "execution_count": null,
      "outputs": [
        {
          "output_type": "stream",
          "name": "stdout",
          "text": [
            "(155, 155)\n",
            "Cluster contribution is too small\n",
            "[('mathematical finance', 0.8586283894208455), ('general physics', 0.5090070058390059), ('computational physics', 0.06057036091020725), ('general economics', 0.0004360344015557236), ('statistics and probability', 0.0002723510478221879), ('classical physics', 0.00017464207665101315), ('analysis of pdes', 0.00015326581333242512), ('medical physics', 0.00012540826873478524), ('general topology', 0.0001008244530140204), ('algebraic geometry', 9.021075491350373e-05), ('biological physics', 8.506798586973325e-05), ('computer science and game theory', 6.652553647588447e-05), ('computational complexity', 6.577243010778959e-05), ('other condensed matter', 6.536688177784925e-05), ('data structures and algorithms', 5.510195785106382e-05)]\n",
            "[('machine learning', 0.841506652685188), ('numerical analysis', 0.4568035322455715), ('systems and control', 0.2381542887060966), ('statistics theory', 0.150174290758162), ('mathematical physics', 0.06001076131756257), ('information theory', 0.01805580534847585), ('computational finance', 1.3371945084351183e-07), ('general physics', 4.767313700535389e-08), ('computational geometry', 1.3559827400525107e-10), ('algebraic topology', 5.923950007107979e-11), ('economics', 2.5996511458372905e-11), ('soft condensed matter', 2.264932948085457e-11), ('high energy physics - theory', 1.0384812302425423e-11), ('statistics and probability', 1.0153159880065936e-11), ('other quantitative biology', 9.872020106088935e-12)]\n",
            "[('high energy physics - experiment', 0.9021355145142959), ('nuclear theory', 0.3656189685192379), ('k-theory and homology', 0.13154364750202366), ('general economics', 0.0891319264457837), ('high energy astrophysical phenomena', 0.057906473972916685), ('general finance', 0.05694467963217807), ('quantitative methods', 0.05356899892827975), ('other computer science', 0.04669287253338176), ('classical analysis and odes', 0.041967436365013135), ('algebraic topology', 0.04076746580163799), ('mathematical software', 0.0385919339918025), ('computational finance', 0.035446789610303286), ('statistics theory', 0.03362163870496977), ('metric geometry', 0.03320051064694464), ('statistics theory', 0.030790096884961368)]\n",
            "[('computational geometry', 0.8687653024595058), ('algebraic topology', 0.3636688387608289), ('general finance', 0.25455604992544145), ('general physics', 0.1790929610560428), ('econometrics', 0.05755813639743876), ('mathematical physics', 0.05651528823111639), ('mathematical physics', 0.05603591360263858), ('instrumentation and methods for astrophysics', 0.04024001439447465), ('statistics and probability', 0.03873604910133805), ('finance', 0.02814435994786399), ('economics', 0.025374282885086186), ('other quantitative biology', 0.02043682845007708), ('genomics', 0.015527064301748635), ('high energy physics - theory', 0.012618045358272727), ('geophysics', 0.012047772546243507)]\n",
            "[('mathematical physics', 0.8631252434868865), ('information theory', 0.4569733007298396), ('numerical analysis', 0.1585504094250481), ('machine learning', 0.13746205776173584), ('statistics theory', 0.03850268122262891), ('systems and control', 0.02528050073873225), ('computational finance', 0.005397104318847324), ('general physics', 0.0023374822310306275), ('algebraic geometry', 9.449771201584352e-05), ('general topology', 6.249349502227118e-05), ('general economics', 2.2239086153497824e-05), ('geometric topology', 1.5929382907764126e-05), ('general mathematics', 1.2752530369177524e-05), ('nuclear experiment', 8.107011604591009e-06), ('instrumentation and detectors', 7.162498141048703e-06)]\n",
            "[('parallel', 0.9427092108590193), ('quantitative methods', 0.0922788202046674), ('logic', 0.0879105961743019), ('economics', 0.0815375834450683), ('numerical analysis', 0.0740147814724114), ('general literature', 0.07261248880925347), ('information retrieval', 0.0701602195976726), ('differential geometry', 0.06876858236628253), ('information theory', 0.06462190759177294), ('information theory', 0.06356294615975881), ('systems and control', 0.06061116144621626), ('numerical analysis', 0.06020515374030788), ('optimization and control', 0.059662490409341816), ('operator algebras', 0.057725645646617904), ('pattern formation and solitons', 0.05497919414968275)]\n",
            "[('statistics theory', 0.9364825085680245), ('systems and control', 0.24994603306668473), ('machine learning', 0.16159261939094374), ('numerical analysis', 0.13724371940476932), ('mathematical physics', 0.1193635103812996), ('information theory', 0.036494258892797796), ('computational physics', 5.5652074856810697e-08), ('general finance', 4.1838681233417024e-08), ('computational geometry', 1.0087260805011042e-09), ('algebraic topology', 4.1078443788844497e-10), ('high energy physics - experiment', 3.673938631891072e-10), ('nuclear theory', 1.5225710153216287e-10), ('finance', 1.0662500842244476e-10), ('econometrics', 7.703377499967317e-11), ('k-theory and homology', 4.933097780819198e-11)]\n",
            "[('statistics and probability', 0.8275754419216583), ('general economics', 0.3990574248647437), ('other condensed matter', 0.24424049537118633), ('classical physics', 0.14908712783882566), ('analysis of pdes', 0.1195978062251928), ('mathematical finance', 0.11952074904529814), ('computer science and game theory', 0.09641181162944765), ('mathematical physics', 0.09409723838654625), ('logic in computer science', 0.07074181559400729), ('information theory', 0.06328568807861763), ('computational finance', 0.04258090227471074), ('finance', 0.039425814331309636), ('econometrics', 0.039372357379785713), ('high energy physics - theory', 0.03669779726179655), ('systems and control', 0.03620848352463589)]\n",
            "[('applications', 0.8506974195454908), ('applied physics', 0.35353483292613985), ('methodology', 0.149927256789422), ('physics education', 0.1453889116926432), ('optimization and control', 0.10348742747493439), ('optics', 0.09926132769882098), ('representation theory', 0.09850157500850223), ('nuclear experiment', 0.09576607315321574), ('data structures and algorithms', 0.08485368970232111), ('quantitative methods', 0.07818538526688232), ('instrumentation and detectors', 0.06608732951368884), ('instrumentation and methods for astrophysics', 0.06504713182950816), ('multimedia', 0.06357654152507643), ('trading and market microstructure', 0.0635004066028633), ('populations and evolution', 0.06015967787573371)]\n",
            "[('probability', 0.7274371197180315), ('quantum algebra', 0.36646696496583164), ('quantum gases', 0.30942309746284674), ('quantum physics', 0.27321348992944006), ('quantitative methods', 0.15153855948364497), ('commutative algebra', 0.13628151699394858), ('statistics and probability', 0.13437037072335495), ('algebraic topology', 0.12413248324682448), ('operator algebras', 0.11763337628892467), ('other quantitative biology', 0.11364970403979632), ('rings and algebras', 0.09420204323291796), ('operating systems', 0.08728266168543719), ('systems and control', 0.08345800907860627), ('multiagent systems', 0.08238259042646102), ('general relativity and quantum cosmology', 0.08032467475836803)]\n",
            "[('computational finance', 0.8477019063592872), ('general physics', 0.3962162682233511), ('systems and control', 0.2514929199109618), ('mathematical physics', 0.19850541420595427), ('statistics theory', 0.0897912205769362), ('machine learning', 0.06983167413086258), ('numerical analysis', 0.061765387953847554), ('information theory', 0.047326561142701), ('economics', 0.03850610927034939), ('other computer science', 0.021058689839099178), ('soft condensed matter', 0.02049168863521523), ('computational geometry', 0.011263094515633941), ('classical analysis and odes', 0.00990425782100841), ('general mathematics', 0.0069215316966170295), ('parallel', 0.004506488265411115)]\n",
            "[('complex variables', 0.6340098799256124), ('differential geometry', 0.5177575815359253), ('superconductivity', 0.2673607378733487), ('optics', 0.2461355648522719), ('classical physics', 0.17553834740879548), ('exactly solvable and integrable systems', 0.1663203927491238), ('computational complexity', 0.1496775150623202), ('functional analysis', 0.11344057130600645), ('methodology', 0.11288471917733316), ('optimization and control', 0.10900375148883212), ('symplectic geometry', 0.10581878271768207), ('classical analysis and odes', 0.1026282678980782), ('combinatorics', 0.09333212384355646), ('general physics', 0.0788024794980404), ('cell behavior', 0.06866133306719194)]\n"
          ]
        }
      ]
    },
    {
      "cell_type": "code",
      "source": [
        "for cluster in member.T:\n",
        "    cl = list(sorted(zip(annotations, cluster.flat),\n",
        "                      key=itemgetter(1), reverse=True))[:NUM_EL]\n",
        "    cl = [word[0] for word in cl]\n",
        "    print(cl)"
      ],
      "metadata": {
        "colab": {
          "base_uri": "https://localhost:8080/"
        },
        "id": "iSP57rRziJlw",
        "outputId": "aab1bb65-5d9c-4ddd-95d6-11b250c062d9"
      },
      "execution_count": null,
      "outputs": [
        {
          "output_type": "stream",
          "name": "stdout",
          "text": [
            "['mathematical finance', 'general physics', 'computational physics', 'general economics', 'statistics and probability', 'classical physics', 'analysis of pdes', 'medical physics', 'general topology', 'algebraic geometry', 'biological physics', 'computer science and game theory', 'computational complexity', 'other condensed matter', 'data structures and algorithms']\n",
            "['machine learning', 'numerical analysis', 'systems and control', 'statistics theory', 'mathematical physics', 'information theory', 'computational finance', 'general physics', 'computational geometry', 'algebraic topology', 'economics', 'soft condensed matter', 'high energy physics - theory', 'statistics and probability', 'other quantitative biology']\n",
            "['high energy physics - experiment', 'nuclear theory', 'k-theory and homology', 'general economics', 'high energy astrophysical phenomena', 'general finance', 'quantitative methods', 'other computer science', 'classical analysis and odes', 'algebraic topology', 'mathematical software', 'computational finance', 'statistics theory', 'metric geometry', 'statistics theory']\n",
            "['computational geometry', 'algebraic topology', 'general finance', 'general physics', 'econometrics', 'mathematical physics', 'mathematical physics', 'instrumentation and methods for astrophysics', 'statistics and probability', 'finance', 'economics', 'other quantitative biology', 'genomics', 'high energy physics - theory', 'geophysics']\n",
            "['mathematical physics', 'information theory', 'numerical analysis', 'machine learning', 'statistics theory', 'systems and control', 'computational finance', 'general physics', 'algebraic geometry', 'general topology', 'general economics', 'geometric topology', 'general mathematics', 'nuclear experiment', 'instrumentation and detectors']\n",
            "['parallel', 'quantitative methods', 'logic', 'economics', 'numerical analysis', 'general literature', 'information retrieval', 'differential geometry', 'information theory', 'information theory', 'systems and control', 'numerical analysis', 'optimization and control', 'operator algebras', 'pattern formation and solitons']\n",
            "['statistics theory', 'systems and control', 'machine learning', 'numerical analysis', 'mathematical physics', 'information theory', 'computational physics', 'general finance', 'computational geometry', 'algebraic topology', 'high energy physics - experiment', 'nuclear theory', 'finance', 'econometrics', 'k-theory and homology']\n",
            "['statistics and probability', 'general economics', 'other condensed matter', 'classical physics', 'analysis of pdes', 'mathematical finance', 'computer science and game theory', 'mathematical physics', 'logic in computer science', 'information theory', 'computational finance', 'finance', 'econometrics', 'high energy physics - theory', 'systems and control']\n",
            "['applications', 'applied physics', 'methodology', 'physics education', 'optimization and control', 'optics', 'representation theory', 'nuclear experiment', 'data structures and algorithms', 'quantitative methods', 'instrumentation and detectors', 'instrumentation and methods for astrophysics', 'multimedia', 'trading and market microstructure', 'populations and evolution']\n",
            "['probability', 'quantum algebra', 'quantum gases', 'quantum physics', 'quantitative methods', 'commutative algebra', 'statistics and probability', 'algebraic topology', 'operator algebras', 'other quantitative biology', 'rings and algebras', 'operating systems', 'systems and control', 'multiagent systems', 'general relativity and quantum cosmology']\n",
            "['computational finance', 'general physics', 'systems and control', 'mathematical physics', 'statistics theory', 'machine learning', 'numerical analysis', 'information theory', 'economics', 'other computer science', 'soft condensed matter', 'computational geometry', 'classical analysis and odes', 'general mathematics', 'parallel']\n",
            "['complex variables', 'differential geometry', 'superconductivity', 'optics', 'classical physics', 'exactly solvable and integrable systems', 'computational complexity', 'functional analysis', 'methodology', 'optimization and control', 'symplectic geometry', 'classical analysis and odes', 'combinatorics', 'general physics', 'cell behavior']\n"
          ]
        }
      ]
    },
    {
      "cell_type": "markdown",
      "source": [
        "#### Cluster Analisys"
      ],
      "metadata": {
        "id": "LYVH_POL2Oiq"
      }
    },
    {
      "cell_type": "code",
      "source": [
        "!python3 /content/gotlib/got/taxonomies/pargenfs.py arxiv_category_taxonomy.csv taxonomy_leaves.txt clusters.dat 0"
      ],
      "metadata": {
        "id": "q0VkJeGCnMKh",
        "colab": {
          "base_uri": "https://localhost:8080/"
        },
        "outputId": "c260f7cb-b401-4e96-b5ba-c2263b4647c9"
      },
      "execution_count": null,
      "outputs": [
        {
          "output_type": "stream",
          "name": "stdout",
          "text": [
            "Number of leaves: 155\n",
            "All positive weights:\n",
            "mathematical finance                                         0.85863\n",
            "general physics                                              0.50901\n",
            "computational physics                                        0.06057\n",
            "general economics                                            0.00044\n",
            "classical physics                                            0.00017\n",
            "analysis of pdes                                             0.00015\n",
            "medical physics                                              0.00013\n",
            "general topology                                             0.00010\n",
            "algebraic geometry                                           0.00009\n",
            "biological physics                                           0.00009\n",
            "computer science and game theory                             0.00007\n",
            "computational complexity                                     0.00007\n",
            "other condensed matter                                       0.00007\n",
            "data structures and algorithms                               0.00006\n",
            "formal languages and automata theory                         0.00004\n",
            "chemical physics                                             0.00004\n",
            "social and information networks                              0.00003\n",
            "instrumentation and detectors                                0.00003\n",
            "k-theory and homology                                        0.00002\n",
            "computation and language                                     0.00002\n",
            "plasma physics                                               0.00002\n",
            "exactly solvable and integrable systems                      0.00002\n",
            "signal processing                                            0.00002\n",
            "fluid dynamics                                               0.00002\n",
            "multiagent systems                                           0.00002\n",
            "solar and stellar astrophysics                               0.00002\n",
            "econometrics                                                 0.00002\n",
            "atomic physics                                               0.00002\n",
            "quantum algebra                                              0.00002\n",
            "general relativity and quantum cosmology                     0.00002\n",
            "quantitative methods                                         0.00001\n",
            "high energy physics - lattice                                0.00001\n",
            "tissues and organs                                           0.00001\n",
            "software engineering                                         0.00001\n",
            "databases                                                    0.00001\n",
            "space physics                                                0.00001\n",
            "earth and planetary astrophysics                             0.00001\n",
            "computers and society                                        0.00001\n",
            "popular physics                                              0.00001\n",
            "high energy astrophysical phenomena                          0.00001\n",
            "graphics                                                     0.00001\n",
            "logic in computer science                                    0.00001\n",
            "history and overview                                         0.00001\n",
            "chaotic dynamics                                             0.00001\n",
            "neural and evolutionary computing                            0.00001\n",
            "number theory                                                0.00001\n",
            "operating systems                                            0.00001\n",
            "functional analysis                                          0.00001\n",
            "human-computer interaction                                   0.00001\n",
            "sound                                                        0.00001\n",
            "high energy physics - experiment                             0.00001\n",
            "subcellular processes                                        0.00001\n",
            "pattern formation and solitons                               0.00001\n",
            "rings and algebras                                           0.00001\n",
            "representation theory                                        0.00001\n",
            "computation                                                  0.00001\n",
            "astrophysics of galaxies                                     0.00000\n",
            "robotics                                                     0.00000\n",
            "molecular networks                                           0.00000\n",
            "hardware architecture                                        0.00000\n",
            "systems and control                                          0.00000\n",
            "systems and control                                          0.00000\n",
            "emerging technologies                                        0.00000\n",
            "applied physics                                              0.00000\n",
            "combinatorics                                                0.00000\n",
            "symbolic computation                                         0.00000\n",
            "materials science                                            0.00000\n",
            "physics education                                            0.00000\n",
            "nuclear theory                                               0.00000\n",
            "After transformation:\n",
            "mathematical finance                                         0.86021\n",
            "general physics                                              0.50994\n",
            "Setting weights for internal nodes\n",
            "Membership in root: 1.00000\n",
            "Pruning tree...\n",
            "Setting gaps...\n",
            "Other parameters setting...\n",
            "ParGenFS main steps...\n",
            "Done. Saving...\n",
            "Table saved in the file: table.csv\n",
            "ete representation saved in the file: taxonomy_tree_lifted.ete\n",
            "ete representation saved.\n",
            "Done.\n"
          ]
        }
      ]
    },
    {
      "cell_type": "markdown",
      "source": [
        "##### Visualization treestyle"
      ],
      "metadata": {
        "id": "rFTcnp3-qy6A"
      }
    },
    {
      "cell_type": "code",
      "source": [
        "from ete3 import TextFace, Tree, TreeStyle, \\\n",
        "    NodeStyle, RectFace, PieChartFace, TreeNode\n",
        "from got.taxonomies.visualize import layout_lift, read_ete3_from_file\n",
        "\n",
        "\n",
        "ts = TreeStyle()\n",
        "ts.show_leaf_name = False\n",
        "ts.layout_fn = layout_lift\n",
        "\n",
        "ts.rotation = 90\n",
        "ts.branch_vertical_margin = 10\n",
        "ts.show_scale = False\n",
        "ts.scale = 50\n",
        "ts.title.add_face(TextFace(\" \", fsize=20), column=0)\n",
        "\n",
        "ts.legend.add_face(TextFace(\"  \"), column=0)\n",
        "ts.legend.add_face(TextFace(\"  \"), column=1)\n",
        "ts.legend.add_face(TextFace(\"  \"), column=2)\n",
        "ts.legend.add_face(TextFace(\"  \"), column=3)\n",
        "\n",
        "ts.legend.add_face(TextFace(\"              \"), column=0)\n",
        "ts.legend.add_face(TextFace(\"Node shape and size:\"), column=1)\n",
        "ts.legend.add_face(TextFace(\"              \"), column=2)\n",
        "ts.legend.add_face(TextFace(\"Node color - membership value:\"), column=3)\n",
        "\n",
        "ts.legend.add_face(TextFace(\"  \"), column=0)\n",
        "ts.legend.add_face(TextFace(\"  \"), column=1)\n",
        "ts.legend.add_face(TextFace(\"  \"), column=2)\n",
        "ts.legend.add_face(TextFace(\"  \"), column=3)\n",
        "\n",
        "ts.legend.add_face(PieChartFace([100], 20, 20, colors=['white'], line_color='black'), column=0)\n",
        "ts.legend.add_face(TextFace(\"  topic that relates to the cluster\"), column=1)\n",
        "\n",
        "ts.legend.add_face(RectFace(30, 10, \"#90ee90\", \"#90ee90\"), column=2)\n",
        "ts.legend.add_face(TextFace(\"  topic with minor membership 0<u(t)<=0.2\"), column=3)\n",
        "\n",
        "ts.legend.add_face(TextFace(\"  \"), column=0)\n",
        "ts.legend.add_face(TextFace(\"  \"), column=1)\n",
        "ts.legend.add_face(TextFace(\"  \"), column=2)\n",
        "ts.legend.add_face(TextFace(\"  \"), column=3)\n",
        "\n",
        "ts.legend.add_face(PieChartFace([100], 40, 40, colors=['white'], line_color='black'), column=0)\n",
        "ts.legend.add_face(TextFace(\"  head subject\"), column=1)\n",
        "\n",
        "ts.legend.add_face(RectFace(30, 10, \"green\", \"green\"), column=2)\n",
        "ts.legend.add_face(TextFace(u\"  topic with medium membership 0.2<u(t)<=0.4   \"), column=3)\n",
        "\n",
        "ts.legend.add_face(TextFace(\"  \"), column=0)\n",
        "ts.legend.add_face(TextFace(\"  \"), column=1)\n",
        "ts.legend.add_face(TextFace(\"  \"), column=2)\n",
        "ts.legend.add_face(TextFace(\"  \"), column=3)\n",
        "\n",
        "ts.legend.add_face(RectFace(20, 20, \"black\", \"white\"), column=0)\n",
        "ts.legend.add_face(TextFace(\"  topic that doesn't relate to cluster                     \"), \\\n",
        "                    column=1)\n",
        "\n",
        "ts.legend.add_face(RectFace(30, 10, \"#004000\", \"#004000\"), column=2)\n",
        "ts.legend.add_face(TextFace(\"  topic with high membership u(t)>0.4\"), column=3)\n",
        "\n",
        "ts.legend.add_face(TextFace(\"  \"), column=0)\n",
        "ts.legend.add_face(TextFace(\"  \"), column=1)\n",
        "ts.legend.add_face(TextFace(\"  \"), column=2)\n",
        "ts.legend.add_face(TextFace(\"  \"), column=3)\n",
        "\n",
        "ts.legend.add_face(TextFace(\"  \"), column=1)\n",
        "ts.legend.add_face(TextFace(\"  \"), column=1)\n",
        "\n",
        "ts.legend.add_face(RectFace(30, 10, \"red\", \"red\"), column=2)\n",
        "ts.legend.add_face(TextFace(\"  topic with no membership (u(t)=0)\"), column=3)\n",
        "\n",
        "ts.legend_position = 3"
      ],
      "metadata": {
        "id": "Wp1OaeojrXOm"
      },
      "execution_count": null,
      "outputs": []
    },
    {
      "cell_type": "markdown",
      "source": [
        "##### Visualization"
      ],
      "metadata": {
        "id": "9g2bZ6EFrO9Y"
      }
    },
    {
      "cell_type": "code",
      "source": [
        "filename = '/content/taxonomy_tree_lifted.ete'\n",
        "\n",
        "ete3_desc = read_ete3_from_file(filename)\n",
        "tree = Tree(ete3_desc, format=1)\n",
        "\n",
        "tree.render(\"%%inline\", tree_style=ts)"
      ],
      "metadata": {
        "colab": {
          "base_uri": "https://localhost:8080/",
          "height": 586
        },
        "id": "4OfToth9nMbz",
        "outputId": "058fdd8e-980e-41ad-8d22-f6d06493d98c"
      },
      "execution_count": null,
      "outputs": [
        {
          "output_type": "execute_result",
          "data": {
            "image/png": "[encoded data removed]",
            "text/plain": [
              "<IPython.core.display.Image object>"
            ]
          },
          "metadata": {},
          "execution_count": 195
        }
      ]
    }
  ]
}