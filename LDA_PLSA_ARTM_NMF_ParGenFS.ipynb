{
  "nbformat": 4,
  "nbformat_minor": 0,
  "metadata": {
    "colab": {
      "provenance": [],
      "collapsed_sections": [
        "65CUvU_r8wV5",
        "dZJy3znR9Dr5",
        "p-sCj0NsGtAW",
        "NhNehIgB-nAy",
        "lZnIBPj8TSmb"
      ]
    },
    "kernelspec": {
      "name": "python3",
      "display_name": "Python 3"
    },
    "language_info": {
      "name": "python"
    }
  },
  "cells": [
    {
      "cell_type": "markdown",
      "source": [
        "## Install requirements"
      ],
      "metadata": {
        "id": "65CUvU_r8wV5"
      }
    },
    {
      "cell_type": "code",
      "source": [
        "%%capture\n",
        "!pip install spacy\n",
        "!pip install pyLDAvis"
      ],
      "metadata": {
        "id": "BKQ_bPunu-Gv"
      },
      "execution_count": 1,
      "outputs": []
    },
    {
      "cell_type": "markdown",
      "source": [
        "## Download kaggle token and mount Google drive"
      ],
      "metadata": {
        "id": "Pb4D5pOG86ES"
      }
    },
    {
      "cell_type": "code",
      "source": [
        "from google.colab import files\n",
        "files.upload()\n",
        "\n",
        "!rm -r ~/.kaggle\n",
        "!mkdir ~/.kaggle\n",
        "!mv ./kaggle.json ~/.kaggle/\n",
        "!chmod 600 ~/.kaggle/kaggle.json"
      ],
      "metadata": {
        "colab": {
          "base_uri": "https://localhost:8080/",
          "height": 89
        },
        "id": "a3YWZzbqthJg",
        "outputId": "3699042c-7197-406f-c07a-34a02748b73b"
      },
      "execution_count": 2,
      "outputs": [
        {
          "output_type": "display_data",
          "data": {
            "text/plain": [
              "<IPython.core.display.HTML object>"
            ],
            "text/html": [
              "\n",
              "     <input type=\"file\" id=\"files-34879693-92d6-4348-97d3-1889dd1a8fcc\" name=\"files[]\" multiple disabled\n",
              "        style=\"border:none\" />\n",
              "     <output id=\"result-34879693-92d6-4348-97d3-1889dd1a8fcc\">\n",
              "      Upload widget is only available when the cell has been executed in the\n",
              "      current browser session. Please rerun this cell to enable.\n",
              "      </output>\n",
              "      <script>// Copyright 2017 Google LLC\n",
              "//\n",
              "// Licensed under the Apache License, Version 2.0 (the \"License\");\n",
              "// you may not use this file except in compliance with the License.\n",
              "// You may obtain a copy of the License at\n",
              "//\n",
              "//      http://www.apache.org/licenses/LICENSE-2.0\n",
              "//\n",
              "// Unless required by applicable law or agreed to in writing, software\n",
              "// distributed under the License is distributed on an \"AS IS\" BASIS,\n",
              "// WITHOUT WARRANTIES OR CONDITIONS OF ANY KIND, either express or implied.\n",
              "// See the License for the specific language governing permissions and\n",
              "// limitations under the License.\n",
              "\n",
              "/**\n",
              " * @fileoverview Helpers for google.colab Python module.\n",
              " */\n",
              "(function(scope) {\n",
              "function span(text, styleAttributes = {}) {\n",
              "  const element = document.createElement('span');\n",
              "  element.textContent = text;\n",
              "  for (const key of Object.keys(styleAttributes)) {\n",
              "    element.style[key] = styleAttributes[key];\n",
              "  }\n",
              "  return element;\n",
              "}\n",
              "\n",
              "// Max number of bytes which will be uploaded at a time.\n",
              "const MAX_PAYLOAD_SIZE = 100 * 1024;\n",
              "\n",
              "function _uploadFiles(inputId, outputId) {\n",
              "  const steps = uploadFilesStep(inputId, outputId);\n",
              "  const outputElement = document.getElementById(outputId);\n",
              "  // Cache steps on the outputElement to make it available for the next call\n",
              "  // to uploadFilesContinue from Python.\n",
              "  outputElement.steps = steps;\n",
              "\n",
              "  return _uploadFilesContinue(outputId);\n",
              "}\n",
              "\n",
              "// This is roughly an async generator (not supported in the browser yet),\n",
              "// where there are multiple asynchronous steps and the Python side is going\n",
              "// to poll for completion of each step.\n",
              "// This uses a Promise to block the python side on completion of each step,\n",
              "// then passes the result of the previous step as the input to the next step.\n",
              "function _uploadFilesContinue(outputId) {\n",
              "  const outputElement = document.getElementById(outputId);\n",
              "  const steps = outputElement.steps;\n",
              "\n",
              "  const next = steps.next(outputElement.lastPromiseValue);\n",
              "  return Promise.resolve(next.value.promise).then((value) => {\n",
              "    // Cache the last promise value to make it available to the next\n",
              "    // step of the generator.\n",
              "    outputElement.lastPromiseValue = value;\n",
              "    return next.value.response;\n",
              "  });\n",
              "}\n",
              "\n",
              "/**\n",
              " * Generator function which is called between each async step of the upload\n",
              " * process.\n",
              " * @param {string} inputId Element ID of the input file picker element.\n",
              " * @param {string} outputId Element ID of the output display.\n",
              " * @return {!Iterable<!Object>} Iterable of next steps.\n",
              " */\n",
              "function* uploadFilesStep(inputId, outputId) {\n",
              "  const inputElement = document.getElementById(inputId);\n",
              "  inputElement.disabled = false;\n",
              "\n",
              "  const outputElement = document.getElementById(outputId);\n",
              "  outputElement.innerHTML = '';\n",
              "\n",
              "  const pickedPromise = new Promise((resolve) => {\n",
              "    inputElement.addEventListener('change', (e) => {\n",
              "      resolve(e.target.files);\n",
              "    });\n",
              "  });\n",
              "\n",
              "  const cancel = document.createElement('button');\n",
              "  inputElement.parentElement.appendChild(cancel);\n",
              "  cancel.textContent = 'Cancel upload';\n",
              "  const cancelPromise = new Promise((resolve) => {\n",
              "    cancel.onclick = () => {\n",
              "      resolve(null);\n",
              "    };\n",
              "  });\n",
              "\n",
              "  // Wait for the user to pick the files.\n",
              "  const files = yield {\n",
              "    promise: Promise.race([pickedPromise, cancelPromise]),\n",
              "    response: {\n",
              "      action: 'starting',\n",
              "    }\n",
              "  };\n",
              "\n",
              "  cancel.remove();\n",
              "\n",
              "  // Disable the input element since further picks are not allowed.\n",
              "  inputElement.disabled = true;\n",
              "\n",
              "  if (!files) {\n",
              "    return {\n",
              "      response: {\n",
              "        action: 'complete',\n",
              "      }\n",
              "    };\n",
              "  }\n",
              "\n",
              "  for (const file of files) {\n",
              "    const li = document.createElement('li');\n",
              "    li.append(span(file.name, {fontWeight: 'bold'}));\n",
              "    li.append(span(\n",
              "        `(${file.type || 'n/a'}) - ${file.size} bytes, ` +\n",
              "        `last modified: ${\n",
              "            file.lastModifiedDate ? file.lastModifiedDate.toLocaleDateString() :\n",
              "                                    'n/a'} - `));\n",
              "    const percent = span('0% done');\n",
              "    li.appendChild(percent);\n",
              "\n",
              "    outputElement.appendChild(li);\n",
              "\n",
              "    const fileDataPromise = new Promise((resolve) => {\n",
              "      const reader = new FileReader();\n",
              "      reader.onload = (e) => {\n",
              "        resolve(e.target.result);\n",
              "      };\n",
              "      reader.readAsArrayBuffer(file);\n",
              "    });\n",
              "    // Wait for the data to be ready.\n",
              "    let fileData = yield {\n",
              "      promise: fileDataPromise,\n",
              "      response: {\n",
              "        action: 'continue',\n",
              "      }\n",
              "    };\n",
              "\n",
              "    // Use a chunked sending to avoid message size limits. See b/62115660.\n",
              "    let position = 0;\n",
              "    do {\n",
              "      const length = Math.min(fileData.byteLength - position, MAX_PAYLOAD_SIZE);\n",
              "      const chunk = new Uint8Array(fileData, position, length);\n",
              "      position += length;\n",
              "\n",
              "      const base64 = btoa(String.fromCharCode.apply(null, chunk));\n",
              "      yield {\n",
              "        response: {\n",
              "          action: 'append',\n",
              "          file: file.name,\n",
              "          data: base64,\n",
              "        },\n",
              "      };\n",
              "\n",
              "      let percentDone = fileData.byteLength === 0 ?\n",
              "          100 :\n",
              "          Math.round((position / fileData.byteLength) * 100);\n",
              "      percent.textContent = `${percentDone}% done`;\n",
              "\n",
              "    } while (position < fileData.byteLength);\n",
              "  }\n",
              "\n",
              "  // All done.\n",
              "  yield {\n",
              "    response: {\n",
              "      action: 'complete',\n",
              "    }\n",
              "  };\n",
              "}\n",
              "\n",
              "scope.google = scope.google || {};\n",
              "scope.google.colab = scope.google.colab || {};\n",
              "scope.google.colab._files = {\n",
              "  _uploadFiles,\n",
              "  _uploadFilesContinue,\n",
              "};\n",
              "})(self);\n",
              "</script> "
            ]
          },
          "metadata": {}
        },
        {
          "output_type": "stream",
          "name": "stdout",
          "text": [
            "Saving kaggle.json to kaggle.json\n",
            "rm: cannot remove '/root/.kaggle': No such file or directory\n"
          ]
        }
      ]
    },
    {
      "cell_type": "code",
      "source": [
        "from google.colab import drive\n",
        "drive.mount('/content/drive')"
      ],
      "metadata": {
        "colab": {
          "base_uri": "https://localhost:8080/"
        },
        "id": "2P34TDunmbHo",
        "outputId": "18ce99c1-ccfa-4545-e30d-ac4a1e93dbc2"
      },
      "execution_count": 3,
      "outputs": [
        {
          "output_type": "stream",
          "name": "stdout",
          "text": [
            "Mounted at /content/drive\n"
          ]
        }
      ]
    },
    {
      "cell_type": "markdown",
      "source": [
        "## Load data"
      ],
      "metadata": {
        "id": "DJmGAU_W8_uc"
      }
    },
    {
      "cell_type": "code",
      "source": [
        "# Downloading data\n",
        "!kaggle datasets download -d Cornell-University/arxiv --force\n",
        "\n",
        "!mkdir Dataset\n",
        "!cp /content/arxiv.zip /content/Dataset/arxiv.zip\n",
        "!unzip -q /content/Dataset/arxiv.zip -d /content/Dataset\n",
        "!rm /content/Dataset/arxiv.zip"
      ],
      "metadata": {
        "colab": {
          "base_uri": "https://localhost:8080/"
        },
        "id": "MZhFp40CtkuN",
        "outputId": "2cfc16cc-f1bb-4a8b-b7d2-3e2824785840"
      },
      "execution_count": 4,
      "outputs": [
        {
          "output_type": "stream",
          "name": "stdout",
          "text": [
            "Downloading arxiv.zip to /content\n",
            " 98% 1.12G/1.14G [00:07<00:00, 170MB/s]\n",
            "100% 1.14G/1.14G [00:07<00:00, 165MB/s]\n"
          ]
        }
      ]
    },
    {
      "cell_type": "code",
      "source": [
        "import pandas as pd\n",
        "dfs = pd.read_json('/content/Dataset/arxiv-metadata-oai-snapshot.json', lines=True, chunksize = 5e4)"
      ],
      "metadata": {
        "id": "nOS8eCOLsmQC"
      },
      "execution_count": 5,
      "outputs": []
    },
    {
      "cell_type": "code",
      "source": [
        "df = pd.DataFrame()\n",
        "for data in dfs:\n",
        "  df = pd.concat([df, data[['abstract']]])\n",
        "  if df.shape[0] > 1e6:\n",
        "    break\n",
        "\n",
        "sub_df = df.dropna(subset=['abstract'])\n"
      ],
      "metadata": {
        "id": "BSysFEdjtV3e"
      },
      "execution_count": 6,
      "outputs": []
    },
    {
      "cell_type": "code",
      "source": [
        "docs = sub_df['abstract'].to_list()[:1000000]"
      ],
      "metadata": {
        "id": "zkbgMEBR_qEV"
      },
      "execution_count": 7,
      "outputs": []
    },
    {
      "cell_type": "markdown",
      "source": [
        "## Preprocessing"
      ],
      "metadata": {
        "id": "dZJy3znR9Dr5"
      }
    },
    {
      "cell_type": "code",
      "source": [
        "import nltk\n",
        "nltk.download('stopwords')\n",
        "from nltk.corpus import stopwords\n",
        "\n",
        "\n",
        "stop_words = stopwords.words('english')\n",
        "stop_words.extend(['allow', 'almost', 'also', 'approach', 'asume', 'bad', 'behavior',\n",
        "                  'consider', 'constant', 'control', 'datum', 'density', 'describe',\n",
        "                  'description', 'direction', 'discuss', 'edu', 'effect',\n",
        "                  'effective', 'energy', 'example', 'experimental', 'field', 'find',\n",
        "                  'fine', 'first', 'form', 'from', 'give', 'high', 'investigate',\n",
        "                  'know', 'known', 'large', 'lead', 'let', 'long', 'low', 'make', 'model',\n",
        "                  'new', 'non', 'observe', 'obtain', 'paper', 'parameter',\n",
        "                  'particular', 'point', 'positive', 'present', 'problem',\n",
        "                  'property', 'propose', 'result', 'sample', 'search', 'show',\n",
        "                  'small', 'state', 'study', 'subject', 'suggest', 'suppose',\n",
        "                  'system', 'theory', 'time', 'use', 'well', 'word', 'work'])"
      ],
      "metadata": {
        "colab": {
          "base_uri": "https://localhost:8080/"
        },
        "id": "w9zXE2EzN72q",
        "outputId": "65e7222a-7005-4e58-8e2b-a5da12fc0e8a"
      },
      "execution_count": 8,
      "outputs": [
        {
          "output_type": "stream",
          "name": "stderr",
          "text": [
            "[nltk_data] Downloading package stopwords to /root/nltk_data...\n",
            "[nltk_data]   Unzipping corpora/stopwords.zip.\n"
          ]
        }
      ]
    },
    {
      "cell_type": "code",
      "source": [
        "from sklearn.feature_extraction.text import CountVectorizer\n",
        "import numpy as np\n",
        "\n",
        "cv = CountVectorizer(max_features=500, stop_words=stop_words)\n",
        "n_wd = np.array(cv.fit_transform(docs).todense()).T\n",
        "vocabulary = cv.get_feature_names_out()"
      ],
      "metadata": {
        "id": "XGR4CsL_8JLF"
      },
      "execution_count": 9,
      "outputs": []
    },
    {
      "cell_type": "code",
      "source": [
        "tokenized_docs = [cv.get_feature_names_out()[np.bool_(n_wd[:, i].T)] for i in range(len(docs))]"
      ],
      "metadata": {
        "id": "ixkWK3l1VOMD"
      },
      "execution_count": null,
      "outputs": []
    },
    {
      "cell_type": "code",
      "source": [
        "from gensim import corpora\n",
        "# Mapping from word IDs to words\n",
        "id2word = corpora.Dictionary(tokenized_docs)\n",
        "\n",
        "# Prepare Document-Term Matrix\n",
        "corpus = []\n",
        "for doc in tokenized_docs:\n",
        "    corpus.append(id2word.doc2bow(doc))"
      ],
      "metadata": {
        "id": "_asBZeaqRUO1"
      },
      "execution_count": 11,
      "outputs": []
    },
    {
      "cell_type": "markdown",
      "source": [
        "## NMF (Non-negative Matrix Factorization)"
      ],
      "metadata": {
        "id": "p-sCj0NsGtAW"
      }
    },
    {
      "cell_type": "code",
      "source": [
        "topics_num = 15\n",
        "iter_over_collection = 15\n",
        "iter_over_document = 5\n",
        "num_tokens = 20"
      ],
      "metadata": {
        "id": "HW6wQYqJB-vE"
      },
      "execution_count": 12,
      "outputs": []
    },
    {
      "cell_type": "code",
      "source": [
        "# Import dependencies\n",
        "import gensim\n",
        "import gensim.corpora as corpora\n",
        "from gensim.utils import simple_preprocess\n",
        "import spacy\n",
        "import pyLDAvis\n",
        "import pyLDAvis.gensim_models\n",
        "import warnings\n",
        "warnings.filterwarnings(\"ignore\", category=DeprecationWarning)\n",
        "\n",
        "# Fit NMF model\n",
        "nmf_model = gensim.models.Nmf(\n",
        "    corpus = corpus,     \n",
        "    id2word = id2word, \n",
        "    num_topics = topics_num,     # Number of latent topics to extract\n",
        "    random_state = 100,\n",
        "    passes = iter_over_collection * iter_over_document,        # N° of passes through the corpus during training\n",
        "    )\n",
        "\n",
        "nmf_topics = nmf_model.show_topics(num_topics=15, num_words=num_tokens, formatted=False)\n",
        "nmf_topics = [[word[0] for word in topic[1]] for topic in nmf_topics]\n",
        "# Get the topics sorted by sparsity\n",
        "nmf_model.show_topics()"
      ],
      "metadata": {
        "colab": {
          "base_uri": "https://localhost:8080/"
        },
        "id": "lFTG27LArytl",
        "outputId": "347b462c-02e5-4668-c6bf-2a5f6ab6d124"
      },
      "execution_count": 13,
      "outputs": [
        {
          "output_type": "execute_result",
          "data": {
            "text/plain": [
              "[(2,\n",
              "  '0.029*\"phase\" + 0.026*\"quantum\" + 0.023*\"spin\" + 0.022*\"magnetic\" + 0.021*\"temperature\" + 0.020*\"order\" + 0.020*\"transition\" + 0.019*\"states\" + 0.015*\"coupling\" + 0.014*\"interaction\"'),\n",
              " (5,\n",
              "  '0.028*\"space\" + 0.023*\"case\" + 0.022*\"prove\" + 0.017*\"general\" + 0.016*\"finite\" + 0.014*\"equations\" + 0.013*\"solutions\" + 0.013*\"type\" + 0.013*\"group\" + 0.013*\"equation\"'),\n",
              " (4,\n",
              "  '0.076*\"number\" + 0.055*\"function\" + 0.024*\"given\" + 0.023*\"distribution\" + 0.018*\"set\" + 0.017*\"random\" + 0.015*\"algorithm\" + 0.015*\"functions\" + 0.014*\"probability\" + 0.014*\"size\"'),\n",
              " (13,\n",
              "  '0.068*\"mass\" + 0.020*\"masses\" + 0.019*\"star\" + 0.019*\"formation\" + 0.018*\"stellar\" + 0.017*\"matter\" + 0.017*\"evolution\" + 0.017*\"stars\" + 0.017*\"10\" + 0.016*\"massive\"'),\n",
              " (11,\n",
              "  '0.070*\"different\" + 0.055*\"systems\" + 0.031*\"may\" + 0.030*\"however\" + 0.027*\"many\" + 0.015*\"provide\" + 0.015*\"important\" + 0.014*\"information\" + 0.012*\"properties\" + 0.012*\"dynamics\"'),\n",
              " (7,\n",
              "  '0.134*\"observed\" + 0.045*\"found\" + 0.027*\"structure\" + 0.020*\"due\" + 0.014*\"range\" + 0.012*\"measured\" + 0.012*\"measurements\" + 0.011*\"studied\" + 0.011*\"surface\" + 0.010*\"compared\"'),\n",
              " (14,\n",
              "  '0.418*\"results\" + 0.043*\"obtained\" + 0.024*\"numerical\" + 0.023*\"recent\" + 0.018*\"presented\" + 0.018*\"previous\" + 0.017*\"compared\" + 0.014*\"theoretical\" + 0.013*\"agreement\" + 0.012*\"simulation\"'),\n",
              " (12,\n",
              "  '0.502*\"using\" + 0.018*\"obtained\" + 0.015*\"technique\" + 0.014*\"used\" + 0.013*\"techniques\" + 0.010*\"simulations\" + 0.009*\"measured\" + 0.008*\"compared\" + 0.008*\"found\" + 0.008*\"performed\"'),\n",
              " (6,\n",
              "  '0.474*\"one\" + 0.039*\"dimensional\" + 0.016*\"three\" + 0.012*\"loop\" + 0.012*\"possible\" + 0.012*\"least\" + 0.012*\"way\" + 0.008*\"dimension\" + 0.008*\"allows\" + 0.008*\"case\"'),\n",
              " (8,\n",
              "  '0.455*\"two\" + 0.044*\"dimensional\" + 0.042*\"three\" + 0.031*\"second\" + 0.014*\"different\" + 0.013*\"four\" + 0.012*\"respectively\" + 0.010*\"types\" + 0.009*\"states\" + 0.009*\"dimensions\"')]"
            ]
          },
          "metadata": {},
          "execution_count": 13
        }
      ]
    },
    {
      "cell_type": "markdown",
      "source": [
        "## BigARTM (LDA, PLSA, ARTM)"
      ],
      "metadata": {
        "id": "NhNehIgB-nAy"
      }
    },
    {
      "cell_type": "code",
      "source": [
        "%%capture\n",
        "!pip install bigartm"
      ],
      "metadata": {
        "id": "X7CDf_D2v98y"
      },
      "execution_count": 14,
      "outputs": []
    },
    {
      "cell_type": "code",
      "source": [
        "import artm\n",
        "\n",
        "bv = artm.BatchVectorizer(data_format='bow_n_wd',\n",
        "                          n_wd=n_wd,\n",
        "                          vocabulary=vocabulary)"
      ],
      "metadata": {
        "colab": {
          "base_uri": "https://localhost:8080/"
        },
        "id": "00KLGjsowH-0",
        "outputId": "d6549f62-3b64-47be-8226-44b734693621"
      },
      "execution_count": 15,
      "outputs": [
        {
          "output_type": "stream",
          "name": "stderr",
          "text": [
            "/usr/local/lib/python3.9/dist-packages/artm/batches_utils.py:227: DeprecationWarning: Please use `spmatrix` from the `scipy.sparse` namespace, the `scipy.sparse.base` namespace is deprecated.\n",
            "  from scipy.sparse.base import spmatrix\n"
          ]
        }
      ]
    },
    {
      "cell_type": "code",
      "source": [
        "model_plsa = artm.ARTM(num_topics=topics_num, cache_theta=True,\n",
        "                       scores=[artm.PerplexityScore(name='PerplexityScore',\n",
        "                                                    dictionary=bv.dictionary)])\n",
        "\n",
        "model_artm = artm.ARTM(num_topics=topics_num, cache_theta=True,\n",
        "                       scores=[artm.PerplexityScore(name='PerplexityScore',\n",
        "                                                    dictionary=bv.dictionary)],\n",
        "                       regularizers=[artm.SmoothSparseThetaRegularizer(name='SparseTheta',\n",
        "                                                                       tau=-0.15)])\n",
        "model_lda = artm.LDA(num_topics=topics_num, cache_theta=True)\n",
        "\n",
        "model_plsa.scores.add(artm.SparsityPhiScore(name='SparsityPhiScore'))\n",
        "model_plsa.scores.add(artm.SparsityThetaScore(name='SparsityThetaScore'))\n",
        "model_plsa.scores.add(artm.TopicKernelScore(name='TopicKernelScore',\n",
        "                                            probability_mass_threshold=0.3))\n",
        "model_plsa.scores.add(artm.TopTokensScore(name='TopTokensScore', num_tokens=num_tokens))\n",
        "\n",
        "model_artm.scores.add(artm.SparsityPhiScore(name='SparsityPhiScore'))\n",
        "model_artm.scores.add(artm.SparsityThetaScore(name='SparsityThetaScore'))\n",
        "model_artm.scores.add(artm.TopicKernelScore(name='TopicKernelScore',\n",
        "                                                  probability_mass_threshold=0.3))\n",
        "model_artm.scores.add(artm.TopTokensScore(name='TopTokensScore', num_tokens=num_tokens))\n",
        "\n",
        "model_artm.regularizers.add(artm.SmoothSparsePhiRegularizer(name='SparsePhi', tau=-0.1))\n",
        "model_artm.regularizers.add(artm.DecorrelatorPhiRegularizer(name='DecorrelatorPhi', tau=1.5e+5))"
      ],
      "metadata": {
        "id": "6SYruTVyxfTF",
        "colab": {
          "base_uri": "https://localhost:8080/"
        },
        "outputId": "ff2ff026-a388-4de7-a8fe-31b9f653bd36"
      },
      "execution_count": 16,
      "outputs": [
        {
          "output_type": "stream",
          "name": "stderr",
          "text": [
            "/usr/local/lib/python3.9/dist-packages/ipykernel/ipkernel.py:283: DeprecationWarning: `should_run_async` will not call `transform_cell` automatically in the future. Please pass the result to `transformed_cell` argument and any exception that happen during thetransform in `preprocessing_exc_tuple` in IPython 7.17 and above.\n",
            "  and should_run_async(code)\n"
          ]
        }
      ]
    },
    {
      "cell_type": "code",
      "source": [
        "model_plsa.num_document_passes = iter_over_document\n",
        "model_artm.num_document_passes = iter_over_document\n",
        "model_lda.num_document_passes = iter_over_document\n",
        "\n",
        "model_plsa.initialize(bv.dictionary)\n",
        "model_plsa.fit_offline(batch_vectorizer=bv, num_collection_passes=iter_over_collection)\n",
        "model_artm.initialize(bv.dictionary)\n",
        "model_artm.fit_offline(batch_vectorizer=bv, num_collection_passes=iter_over_collection)\n",
        "model_lda.initialize(bv.dictionary)\n",
        "model_lda.fit_offline(batch_vectorizer=bv, num_collection_passes=iter_over_collection)\n"
      ],
      "metadata": {
        "id": "WuQuNu4fyZrE"
      },
      "execution_count": 17,
      "outputs": []
    },
    {
      "cell_type": "code",
      "source": [
        "import matplotlib.pyplot as plt\n",
        "def print_measures(model_plsa, model_artm, model_lda):\n",
        "    print('Sparsity Phi: {0:.3f} (LDA) vs. {1:.3f} (PLSA) vs. {2:.3f} (ARTM)'.format(\n",
        "        model_lda.sparsity_phi_last_value,\n",
        "        model_plsa.score_tracker['SparsityPhiScore'].last_value,\n",
        "        model_artm.score_tracker['SparsityPhiScore'].last_value))\n",
        "\n",
        "    print('Sparsity Theta: {0:.3f} (LDA) vs. {1:.3f} (PLSA) vs. {2:.3f} (ARTM)'.format(\n",
        "        model_lda.sparsity_theta_last_value,\n",
        "        model_plsa.score_tracker['SparsityThetaScore'].last_value,\n",
        "        model_artm.score_tracker['SparsityThetaScore'].last_value))\n",
        "\n",
        "    print('Kernel contrast: {0:.3f} (PLSA) vs. {1:.3f} (ARTM)'.format(\n",
        "        model_plsa.score_tracker['TopicKernelScore'].last_average_contrast,\n",
        "        model_artm.score_tracker['TopicKernelScore'].last_average_contrast))\n",
        "\n",
        "    print('Kernel purity: {0:.3f} (PLSA) vs. {1:.3f} (ARTM)'.format(\n",
        "        model_plsa.score_tracker['TopicKernelScore'].last_average_purity,\n",
        "        model_artm.score_tracker['TopicKernelScore'].last_average_purity))\n",
        "\n",
        "    print('Perplexity: {0:.3f} (LDA) vs. {1:.3f} (PLSA) vs. {2:.3f} (ARTM)'.format(\n",
        "        model_lda.perplexity_last_value,\n",
        "        model_plsa.score_tracker['PerplexityScore'].last_value,\n",
        "        model_artm.score_tracker['PerplexityScore'].last_value))\n",
        "\n",
        "    plt.plot(range(len(model_lda.perplexity_value)),\n",
        "             model_lda.perplexity_value, 'g--',\n",
        "             range(len(model_plsa.score_tracker['PerplexityScore'].value)),\n",
        "             model_plsa.score_tracker['PerplexityScore'].value, 'b--',\n",
        "             range(len(model_artm.score_tracker['PerplexityScore'].value)),\n",
        "             model_artm.score_tracker['PerplexityScore'].value, 'r--', linewidth=2)\n",
        "    plt.xlabel('Iterations count')\n",
        "    plt.ylabel('PLSA perp. (blue), ARTM perp. (red), LDA perp. (green)')\n",
        "    plt.grid(True)\n",
        "    plt.show()\n",
        "\n",
        "print_measures(model_plsa, model_artm, model_lda)"
      ],
      "metadata": {
        "colab": {
          "base_uri": "https://localhost:8080/",
          "height": 591
        },
        "id": "fLkFpYBezGOY",
        "outputId": "7d52440d-82d3-4f6f-9c87-f282d3560f7c"
      },
      "execution_count": 18,
      "outputs": [
        {
          "output_type": "stream",
          "name": "stderr",
          "text": [
            "/usr/local/lib/python3.9/dist-packages/ipykernel/ipkernel.py:283: DeprecationWarning: `should_run_async` will not call `transform_cell` automatically in the future. Please pass the result to `transformed_cell` argument and any exception that happen during thetransform in `preprocessing_exc_tuple` in IPython 7.17 and above.\n",
            "  and should_run_async(code)\n"
          ]
        },
        {
          "output_type": "stream",
          "name": "stdout",
          "text": [
            "Sparsity Phi: 0.000 (LDA) vs. 0.006 (PLSA) vs. 0.240 (ARTM)\n",
            "Sparsity Theta: 0.000 (LDA) vs. 0.003 (PLSA) vs. 0.510 (ARTM)\n",
            "Kernel contrast: 0.737 (PLSA) vs. 0.734 (ARTM)\n",
            "Kernel purity: 0.647 (PLSA) vs. 0.614 (ARTM)\n",
            "Perplexity: 232.681 (LDA) vs. 232.364 (PLSA) vs. 229.068 (ARTM)\n"
          ]
        },
        {
          "output_type": "display_data",
          "data": {
            "text/plain": [
              "<Figure size 640x480 with 1 Axes>"
            ],
            "image/png": "[encoded data removed]"
          },
          "metadata": {}
        }
      ]
    },
    {
      "cell_type": "code",
      "source": [
        "# Print results\n",
        "for topic_name in model_plsa.topic_names:\n",
        "    print(topic_name + ': ')\n",
        "    print(model_plsa.score_tracker['TopTokensScore'].last_tokens[topic_name])"
      ],
      "metadata": {
        "colab": {
          "base_uri": "https://localhost:8080/"
        },
        "id": "iAqBudDIycRm",
        "outputId": "dd29f684-221c-4d25-c94b-3a9709b5ec2e"
      },
      "execution_count": 19,
      "outputs": [
        {
          "output_type": "stream",
          "name": "stdout",
          "text": [
            "topic_0: \n",
            "['number', 'distribution', 'size', 'graph', 'bound', 'measure', 'algorithm', 'lower', 'distance', 'graphs', 'two', 'bounds', 'probability', 'upper', 'gaussian', 'maximum', 'variables', 'complexity', 'average', 'higgs']\n",
            "topic_1: \n",
            "['group', 'matrix', 'complex', 'associated', 'certain', 'groups', 'simple', 'examples', 'symmetric', 'operators', 'algebra', 'finite', 'vector', 'open', 'introduce', 'one', 'representation', 'product', 'closed', 'construction']\n",
            "topic_2: \n",
            "['gamma', 'prove', 'class', 'lattice', 'wave', 'spaces', 'limit', 'invariant', 'existence', 'stable', 'spectrum', 'photon', 'weak', 'plane', 'action', 'edge', 'two', 'complete', 'quasi', 'minimal']\n",
            "topic_3: \n",
            "['systems', 'magnetic', 'temperature', 'local', 'fields', 'numerical', 'dynamics', 'flow', 'case', 'critical', 'thermal', 'results', 'transport', 'global', 'induced', 'simulations', 'strongly', 'diffusion', 'two', 'along']\n",
            "topic_4: \n",
            "['structure', 'properties', 'using', 'alpha', 'structures', 'mean', 'measurements', 'type', 'light', 'like', 'beta', 'results', 'scaling', 'linear', 'layer', 'normal', 'growth', 'finite', 'polarization', 'band']\n",
            "topic_5: \n",
            "['mass', '10', 'matter', 'gas', 'dark', 'black', 'region', 'hole', 'scale', 'masses', 'gravitational', 'cross', 'evolution', 'regions', 'emission', 'disk', 'massive', 'sim', 'neutrino', 'cosmological']\n",
            "topic_6: \n",
            "['space', 'models', 'different', 'dimensional', 'surface', 'two', 'set', 'three', 'lambda', 'points', 'four', 'length', 'metric', 'theories', 'dimensions', 'one', 'dimension', 'general', 'code', 'higher']\n",
            "topic_7: \n",
            "['quantum', 'method', 'information', 'process', 'rate', 'analysis', 'classical', 'scheme', 'noise', 'channel', 'processes', 'stochastic', 'signal', 'entropy', 'simulation', 'applied', 'used', 'order', 'states', 'based']\n",
            "topic_8: \n",
            "['star', 'ray', 'stars', 'galaxies', 'observations', 'observed', 'line', 'spectral', 'stellar', 'formation', 'galaxy', 'cluster', 'sources', 'spectra', 'emission', 'radio', 'source', 'clusters', 'al', 'optical']\n",
            "topic_9: \n",
            "['equation', 'equations', 'solutions', 'solution', 'conditions', 'mathbb', 'boundary', 'nonlinear', 'motion', 'modes', 'scalar', 'initial', 'mode', 'differential', 'stability', 'optical', 'linear', 'times', 'obtained', 'condition']\n",
            "topic_10: \n",
            "['phase', 'spin', 'two', 'transition', 'coupling', 'states', 'current', 'strong', 'gauge', 'one', 'pi', 'particle', 'decay', 'topological', 'symmetry', 'quark', 'order', 'mechanism', 'ground', 'loop']\n",
            "topic_11: \n",
            "['data', 'network', 'power', 'networks', 'real', 'multiple', 'mu', 'rm', 'scale', 'using', 'end', 'law', 'among', 'based', 'co', 'results', 'several', 'efficiency', 'available', 'demonstrate']\n",
            "topic_12: \n",
            "['function', 'functions', 'given', 'case', 'random', 'mathcal', 'terms', 'delta', 'operator', 'approximation', 'generalized', 'results', 'order', 'theorem', 'optimal', 'type', 'omega', 'asymptotic', 'log', 'arbitrary']\n",
            "topic_13: \n",
            "['based', 'proposed', 'methods', 'framework', 'performance', 'algorithm', 'learning', 'results', 'used', 'multi', 'algorithms', 'using', 'applications', 'features', 'techniques', 'problems', 'image', 'many', 'existing', 'detection']\n",
            "topic_14: \n",
            "['range', 'single', 'interaction', 'electron', 'frequency', 'due', 'effects', 'particles', 'scattering', 'charge', 'measurement', 'body', 'physics', 'nuclear', 'found', 'energies', 'pressure', 'transfer', 'wide', 'neutron']\n"
          ]
        }
      ]
    },
    {
      "cell_type": "code",
      "source": [
        "for topic_name in model_artm.topic_names:\n",
        "    print(topic_name + ': ')\n",
        "    print(model_artm.score_tracker['TopTokensScore'].last_tokens[topic_name])"
      ],
      "metadata": {
        "colab": {
          "base_uri": "https://localhost:8080/"
        },
        "id": "cnjdDF7O2z5j",
        "outputId": "9a16b6d8-71ef-47e7-9573-c503244013d3"
      },
      "execution_count": 20,
      "outputs": [
        {
          "output_type": "stream",
          "name": "stdout",
          "text": [
            "topic_0: \n",
            "['number', 'distribution', 'size', 'graph', 'bound', 'algorithm', 'measure', 'lower', 'distance', 'probability', 'bounds', 'upper', 'graphs', 'gaussian', 'maximum', 'set', 'complexity', 'variables', 'two', 'distributions']\n",
            "topic_1: \n",
            "['group', 'matrix', 'complex', 'certain', 'groups', 'algebra', 'associated', 'examples', 'symmetric', 'operators', 'vector', 'open', 'simple', 'representation', 'product', 'construction', 'closed', 'given', 'introduce', 'compact']\n",
            "topic_2: \n",
            "['prove', 'gamma', 'class', 'finite', 'theorem', 'spaces', 'invariant', 'lattice', 'stable', 'existence', 'photon', 'complete', 'action', 'edge', 'every', 'quasi', 'minimal', 'limit', 'plane', 'two']\n",
            "topic_3: \n",
            "['systems', 'magnetic', 'temperature', 'local', 'dynamics', 'fields', 'numerical', 'flow', 'critical', 'thermal', 'simulations', 'transport', 'global', 'results', 'induced', 'diffusion', 'equilibrium', 'strongly', 'case', 'two']\n",
            "topic_4: \n",
            "['structure', 'properties', 'alpha', 'using', 'structures', 'mean', 'measurements', 'light', 'beta', 'band', 'scaling', 'layer', 'normal', 'results', 'growth', 'polarization', 'type', 'functional', 'calculations', 'like']\n",
            "topic_5: \n",
            "['mass', '10', 'matter', 'gas', 'dark', 'black', 'hole', 'region', 'scale', 'masses', 'cross', 'gravitational', 'production', 'neutrino', 'sim', 'massive', 'cosmological', 'angular', 'gev', 'standard']\n",
            "topic_6: \n",
            "['space', 'models', 'dimensional', 'surface', 'two', 'different', 'three', 'set', 'lambda', 'points', 'four', 'length', 'metric', 'one', 'theories', 'dimensions', 'dimension', 'code', 'general', 'higher']\n",
            "topic_7: \n",
            "['quantum', 'method', 'information', 'process', 'rate', 'scheme', 'noise', 'channel', 'classical', 'processes', 'analysis', 'entropy', 'stochastic', 'signal', 'simulation', 'based', 'used', 'convergence', 'error', 'states']\n",
            "topic_8: \n",
            "['star', 'ray', 'stars', 'galaxies', 'observations', 'emission', 'line', 'observed', 'formation', 'stellar', 'spectral', 'galaxy', 'cluster', 'sources', 'spectra', 'radio', 'source', 'clusters', 'solar', 'al']\n",
            "topic_9: \n",
            "['equation', 'equations', 'solutions', 'solution', 'mathbb', 'conditions', 'boundary', 'nonlinear', 'motion', 'modes', 'differential', 'mode', 'initial', 'stability', 'scalar', 'linear', 'obtained', 'wave', 'condition', 'domain']\n",
            "topic_10: \n",
            "['phase', 'spin', 'states', 'two', 'transition', 'coupling', 'current', 'strong', 'symmetry', 'gauge', 'one', 'pi', 'wave', 'order', 'decay', 'quark', 'topological', 'ground', 'particle', 'loop']\n",
            "topic_11: \n",
            "['data', 'network', 'power', 'networks', 'real', 'multiple', 'mu', 'rm', 'end', 'using', 'scale', 'co', 'law', 'based', 'among', 'efficiency', 'analysis', 'results', 'available', 'efficient']\n",
            "topic_12: \n",
            "['function', 'functions', 'case', 'given', 'mathcal', 'random', 'delta', 'operator', 'terms', 'approximation', 'generalized', 'order', 'results', 'omega', 'type', 'asymptotic', 'sigma', 'formula', 'optimal', 'coefficients']\n",
            "topic_13: \n",
            "['based', 'proposed', 'methods', 'performance', 'framework', 'results', 'learning', 'using', 'algorithm', 'used', 'multi', 'algorithms', 'problems', 'techniques', 'applications', 'image', 'features', 'existing', 'many', 'design']\n",
            "topic_14: \n",
            "['range', 'interaction', 'electron', 'single', 'frequency', 'effects', 'particles', 'scattering', 'due', 'charge', 'particle', 'measurement', 'body', 'physics', 'interactions', 'nuclear', 'energies', 'pressure', 'transfer', 'neutron']\n"
          ]
        }
      ]
    },
    {
      "cell_type": "code",
      "source": [
        "from operator import itemgetter\n",
        "member = np.loadtxt(\"/content/drive/MyDrive/clusters.dat\")\n",
        "\n",
        "with open(\"/content/drive/MyDrive/taxonomy_leaves.txt\") as fn:\n",
        "    annotations = [l.strip() for l in fn]\n",
        "\n",
        "ParGen_clusters = []\n",
        "for cluster in member.T:\n",
        "    cl = list(sorted(zip(annotations, cluster.flat),\n",
        "                      key=itemgetter(1), reverse=True))[:num_tokens]\n",
        "    cl = [w for word in cl for w in word[0].split()]\n",
        "    ParGen_clusters.append(cl)\n",
        "    print(cl)"
      ],
      "metadata": {
        "colab": {
          "base_uri": "https://localhost:8080/"
        },
        "id": "JYmr980Hh0Me",
        "outputId": "74be1a21-f4ca-49dc-f8f5-d14f72c3bafa"
      },
      "execution_count": 21,
      "outputs": [
        {
          "output_type": "stream",
          "name": "stdout",
          "text": [
            "['mathematical', 'finance', 'general', 'physics', 'computational', 'physics', 'general', 'economics', 'statistics', 'and', 'probability', 'classical', 'physics', 'analysis', 'of', 'pdes', 'medical', 'physics', 'general', 'topology', 'algebraic', 'geometry', 'biological', 'physics', 'computer', 'science', 'and', 'game', 'theory', 'computational', 'complexity', 'other', 'condensed', 'matter', 'data', 'structures', 'and', 'algorithms', 'formal', 'languages', 'and', 'automata', 'theory', 'chemical', 'physics', 'social', 'and', 'information', 'networks', 'instrumentation', 'and', 'detectors', 'k-theory', 'and', 'homology']\n",
            "['machine', 'learning', 'numerical', 'analysis', 'systems', 'and', 'control', 'statistics', 'theory', 'mathematical', 'physics', 'information', 'theory', 'computational', 'finance', 'general', 'physics', 'computational', 'geometry', 'algebraic', 'topology', 'economics', 'soft', 'condensed', 'matter', 'high', 'energy', 'physics', '-', 'theory', 'statistics', 'and', 'probability', 'other', 'quantitative', 'biology', 'physics', 'and', 'society', 'logic', 'other', 'computer', 'science', 'instrumentation', 'and', 'methods', 'for', 'astrophysics', 'classical', 'physics']\n",
            "['high', 'energy', 'physics', '-', 'experiment', 'nuclear', 'theory', 'k-theory', 'and', 'homology', 'general', 'economics', 'high', 'energy', 'astrophysical', 'phenomena', 'general', 'finance', 'quantitative', 'methods', 'other', 'computer', 'science', 'classical', 'analysis', 'and', 'odes', 'algebraic', 'topology', 'mathematical', 'software', 'computational', 'finance', 'statistics', 'theory', 'metric', 'geometry', 'statistics', 'theory', 'information', 'retrieval', 'geophysics', 'astrophysics', 'of', 'galaxies', 'quantum', 'physics', 'hardware', 'architecture']\n",
            "['computational', 'geometry', 'algebraic', 'topology', 'general', 'finance', 'general', 'physics', 'econometrics', 'mathematical', 'physics', 'mathematical', 'physics', 'instrumentation', 'and', 'methods', 'for', 'astrophysics', 'statistics', 'and', 'probability', 'finance', 'economics', 'other', 'quantitative', 'biology', 'genomics', 'high', 'energy', 'physics', '-', 'theory', 'geophysics', 'digital', 'libraries', 'chaotic', 'dynamics', 'quantum', 'gases', 'information', 'retrieval', 'chemical', 'physics']\n",
            "['mathematical', 'physics', 'information', 'theory', 'numerical', 'analysis', 'machine', 'learning', 'statistics', 'theory', 'systems', 'and', 'control', 'computational', 'finance', 'general', 'physics', 'algebraic', 'geometry', 'general', 'topology', 'general', 'economics', 'geometric', 'topology', 'general', 'mathematics', 'nuclear', 'experiment', 'instrumentation', 'and', 'detectors', 'metric', 'geometry', 'high', 'energy', 'physics', '-', 'theory', 'statistical', 'finance', 'probability', 'high', 'energy', 'physics', '-', 'phenomenology']\n",
            "['parallel', 'quantitative', 'methods', 'logic', 'economics', 'numerical', 'analysis', 'general', 'literature', 'information', 'retrieval', 'differential', 'geometry', 'information', 'theory', 'information', 'theory', 'systems', 'and', 'control', 'numerical', 'analysis', 'optimization', 'and', 'control', 'operator', 'algebras', 'pattern', 'formation', 'and', 'solitons', 'instrumentation', 'and', 'methods', 'for', 'astrophysics', 'theoretical', 'economics', 'accelerator', 'physics', 'systems', 'and', 'control', 'solar', 'and', 'stellar', 'astrophysics']\n",
            "['statistics', 'theory', 'systems', 'and', 'control', 'machine', 'learning', 'numerical', 'analysis', 'mathematical', 'physics', 'information', 'theory', 'computational', 'physics', 'general', 'finance', 'computational', 'geometry', 'algebraic', 'topology', 'high', 'energy', 'physics', '-', 'experiment', 'nuclear', 'theory', 'finance', 'econometrics', 'k-theory', 'and', 'homology', 'other', 'computer', 'science', 'instrumentation', 'and', 'methods', 'for', 'astrophysics', 'classical', 'analysis', 'and', 'odes', 'information', 'retrieval', 'mathematical', 'software']\n",
            "['statistics', 'and', 'probability', 'general', 'economics', 'other', 'condensed', 'matter', 'classical', 'physics', 'analysis', 'of', 'pdes', 'mathematical', 'finance', 'computer', 'science', 'and', 'game', 'theory', 'mathematical', 'physics', 'logic', 'in', 'computer', 'science', 'information', 'theory', 'computational', 'finance', 'finance', 'econometrics', 'high', 'energy', 'physics', '-', 'theory', 'systems', 'and', 'control', 'computer', 'vision', 'and', 'pattern', 'recognition', 'algebraic', 'geometry', 'information', 'theory', 'machine', 'learning', 'category', 'theory']\n",
            "['applications', 'applied', 'physics', 'methodology', 'physics', 'education', 'optimization', 'and', 'control', 'optics', 'representation', 'theory', 'nuclear', 'experiment', 'data', 'structures', 'and', 'algorithms', 'quantitative', 'methods', 'instrumentation', 'and', 'detectors', 'instrumentation', 'and', 'methods', 'for', 'astrophysics', 'multimedia', 'trading', 'and', 'market', 'microstructure', 'populations', 'and', 'evolution', 'statistical', 'mechanics', 'other', 'statistics', 'functional', 'analysis', 'economics', 'mathematical', 'physics']\n",
            "['probability', 'quantum', 'algebra', 'quantum', 'gases', 'quantum', 'physics', 'quantitative', 'methods', 'commutative', 'algebra', 'statistics', 'and', 'probability', 'algebraic', 'topology', 'operator', 'algebras', 'other', 'quantitative', 'biology', 'rings', 'and', 'algebras', 'operating', 'systems', 'systems', 'and', 'control', 'multiagent', 'systems', 'general', 'relativity', 'and', 'quantum', 'cosmology', 'statistical', 'mechanics', 'systems', 'and', 'control', 'algebraic', 'geometry', 'statistical', 'finance', 'statistics', 'theory']\n",
            "['computational', 'finance', 'general', 'physics', 'systems', 'and', 'control', 'mathematical', 'physics', 'statistics', 'theory', 'machine', 'learning', 'numerical', 'analysis', 'information', 'theory', 'economics', 'other', 'computer', 'science', 'soft', 'condensed', 'matter', 'computational', 'geometry', 'classical', 'analysis', 'and', 'odes', 'general', 'mathematics', 'parallel', 'statistics', 'and', 'probability', 'dynamical', 'systems', 'econometrics', 'logic', 'computation']\n",
            "['complex', 'variables', 'differential', 'geometry', 'superconductivity', 'optics', 'classical', 'physics', 'exactly', 'solvable', 'and', 'integrable', 'systems', 'computational', 'complexity', 'functional', 'analysis', 'methodology', 'optimization', 'and', 'control', 'symplectic', 'geometry', 'classical', 'analysis', 'and', 'odes', 'combinatorics', 'general', 'physics', 'cell', 'behavior', 'machine', 'learning', 'information', 'theory', 'machine', 'learning', 'multimedia', 'algebraic', 'topology']\n"
          ]
        }
      ]
    },
    {
      "cell_type": "code",
      "source": [
        "from gensim.models.coherencemodel import CoherenceModel\n",
        "\n",
        "lda_topics = model_lda.get_top_tokens(num_tokens=num_tokens, with_weights=False)\n",
        "\n",
        "plsa_topics = []\n",
        "for topic_name in model_plsa.topic_names:\n",
        "    plsa_topics.append(model_plsa.score_tracker['TopTokensScore'].last_tokens[topic_name])\n",
        "\n",
        "artm_topics = []\n",
        "for topic_name in model_artm.topic_names:\n",
        "    artm_topics.append(model_artm.score_tracker['TopTokensScore'].last_tokens[topic_name])\n"
      ],
      "metadata": {
        "id": "oy8OKbLrT83J"
      },
      "execution_count": 22,
      "outputs": []
    },
    {
      "cell_type": "code",
      "source": [
        "cm = CoherenceModel(topics=lda_topics, texts=tokenized_docs, dictionary=id2word, coherence='c_v', topn=10)\n",
        "coherence = cm.compare_model_topics([lda_topics, plsa_topics, artm_topics, nmf_topics, ParGen_clusters])"
      ],
      "metadata": {
        "id": "--AINFY7-qUG"
      },
      "execution_count": 25,
      "outputs": []
    },
    {
      "cell_type": "code",
      "source": [
        "coh_score = [coh[1] for coh in coherence]\n",
        "print(\"coherence score: {0:.3f} (LDA) vs. {1:.3f} (PLSA) vs. {2:.3f} (ARTM) vs. {3:.3f} (NMF) vs. {3:.3f} (ParGenFS)\".format(*coh_score))"
      ],
      "metadata": {
        "colab": {
          "base_uri": "https://localhost:8080/"
        },
        "id": "HRC_iegKk4on",
        "outputId": "1d718604-c798-44cf-819b-8164d0d5677e"
      },
      "execution_count": 26,
      "outputs": [
        {
          "output_type": "stream",
          "name": "stdout",
          "text": [
            "coherence score: 0.598 (LDA) vs. 0.596 (PLSA) vs. 0.611 (ARTM) vs. 0.630 (NMF) vs. 0.630 (ParGenFS)\n"
          ]
        }
      ]
    },
    {
      "cell_type": "markdown",
      "source": [
        "## Save models"
      ],
      "metadata": {
        "id": "lZnIBPj8TSmb"
      }
    },
    {
      "cell_type": "code",
      "source": [
        "nmf_model.save(\"nmf_model.txt\")\n",
        "model_lda.save(\"lda_model.txt\")\n",
        "model_plsa.save(\"plsa_model.txt\")\n",
        "model_artm.save(\"artm_model.txt\")"
      ],
      "metadata": {
        "id": "BNL0mOGtSHfN"
      },
      "execution_count": 27,
      "outputs": []
    },
    {
      "cell_type": "code",
      "source": [
        "#uncomment if you want to save models on google drive\n",
        "\n",
        "#!cp /content/nmf_model.txt /content/drive/MyDrive/nmf_model.txt\n",
        "#!cp /content/lda_model.txt /content/drive/MyDrive/lda_model.txt\n",
        "#!cp /content/plsa_model.txt /content/drive/MyDrive/plsa_model.txt\n",
        "#!cp /content/artm_model.txt /content/drive/MyDrive/artm_model.txt"
      ],
      "metadata": {
        "id": "v3XhI9IrTSIT"
      },
      "execution_count": 28,
      "outputs": []
    }
  ]
}